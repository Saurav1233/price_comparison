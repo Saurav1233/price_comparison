{
 "cells": [
  {
   "cell_type": "code",
   "execution_count": 1,
   "id": "3ac46ec5-5808-4919-9055-6276377a6791",
   "metadata": {},
   "outputs": [
    {
     "name": "stdout",
     "output_type": "stream",
     "text": [
      "Note: you may need to restart the kernel to use updated packages.\n"
     ]
    },
    {
     "name": "stderr",
     "output_type": "stream",
     "text": [
      "WARNING: Skipping serpapi as it is not installed.\n"
     ]
    }
   ],
   "source": [
    "pip uninstall serpapi -y"
   ]
  },
  {
   "cell_type": "code",
   "execution_count": 2,
   "id": "5213b019-03ce-4841-b830-e5b310615b1e",
   "metadata": {},
   "outputs": [
    {
     "name": "stdout",
     "output_type": "stream",
     "text": [
      "Found existing installation: google-search-results 2.4.2\n",
      "Uninstalling google-search-results-2.4.2:\n",
      "  Successfully uninstalled google-search-results-2.4.2\n",
      "Note: you may need to restart the kernel to use updated packages.\n"
     ]
    }
   ],
   "source": [
    "pip uninstall google-search-results -y"
   ]
  },
  {
   "cell_type": "code",
   "execution_count": 3,
   "id": "fd92dafc-dd84-4904-9483-0687a2ef9940",
   "metadata": {},
   "outputs": [
    {
     "name": "stdout",
     "output_type": "stream",
     "text": [
      "Collecting google-search-results\n",
      "  Using cached google_search_results-2.4.2-py3-none-any.whl\n",
      "Requirement already satisfied: requests in c:\\users\\saura\\appdata\\roaming\\python\\python311\\site-packages (from google-search-results) (2.31.0)\n",
      "Requirement already satisfied: charset-normalizer<4,>=2 in c:\\users\\saura\\appdata\\roaming\\python\\python311\\site-packages (from requests->google-search-results) (3.2.0)\n",
      "Requirement already satisfied: idna<4,>=2.5 in c:\\users\\saura\\appdata\\roaming\\python\\python311\\site-packages (from requests->google-search-results) (2.10)\n",
      "Requirement already satisfied: urllib3<3,>=1.21.1 in c:\\users\\saura\\appdata\\roaming\\python\\python311\\site-packages (from requests->google-search-results) (1.26.16)\n",
      "Requirement already satisfied: certifi>=2017.4.17 in c:\\users\\saura\\appdata\\roaming\\python\\python311\\site-packages (from requests->google-search-results) (2023.7.22)\n",
      "Installing collected packages: google-search-results\n",
      "Successfully installed google-search-results-2.4.2\n",
      "Note: you may need to restart the kernel to use updated packages.\n"
     ]
    },
    {
     "name": "stderr",
     "output_type": "stream",
     "text": [
      "\n",
      "[notice] A new release of pip is available: 24.0 -> 25.2\n",
      "[notice] To update, run: python.exe -m pip install --upgrade pip\n"
     ]
    }
   ],
   "source": [
    "pip install google-search-results\n"
   ]
  },
  {
   "cell_type": "code",
   "execution_count": 18,
   "id": "442f8e71-50a2-47d2-9dbd-f680d8b5cee8",
   "metadata": {},
   "outputs": [],
   "source": [
    "import serpapi"
   ]
  },
  {
   "cell_type": "code",
   "execution_count": 17,
   "id": "b9e87ee4-d984-41c4-ad6a-9840a1c47bbf",
   "metadata": {},
   "outputs": [
    {
     "name": "stdout",
     "output_type": "stream",
     "text": [
      "Collecting serpapiNote: you may need to restart the kernel to use updated packages.\n",
      "\n",
      "  Using cached serpapi-0.1.5-py2.py3-none-any.whl.metadata (10 kB)\n",
      "Requirement already satisfied: requests in c:\\users\\saura\\appdata\\roaming\\python\\python311\\site-packages (from serpapi) (2.31.0)\n",
      "Requirement already satisfied: charset-normalizer<4,>=2 in c:\\users\\saura\\appdata\\roaming\\python\\python311\\site-packages (from requests->serpapi) (3.2.0)\n",
      "Requirement already satisfied: idna<4,>=2.5 in c:\\users\\saura\\appdata\\roaming\\python\\python311\\site-packages (from requests->serpapi) (2.10)\n",
      "Requirement already satisfied: urllib3<3,>=1.21.1 in c:\\users\\saura\\appdata\\roaming\\python\\python311\\site-packages (from requests->serpapi) (1.26.16)\n",
      "Requirement already satisfied: certifi>=2017.4.17 in c:\\users\\saura\\appdata\\roaming\\python\\python311\\site-packages (from requests->serpapi) (2023.7.22)\n",
      "Using cached serpapi-0.1.5-py2.py3-none-any.whl (10 kB)\n",
      "Installing collected packages: serpapi\n",
      "Successfully installed serpapi-0.1.5\n"
     ]
    },
    {
     "name": "stderr",
     "output_type": "stream",
     "text": [
      "\n",
      "[notice] A new release of pip is available: 24.0 -> 25.2\n",
      "[notice] To update, run: python.exe -m pip install --upgrade pip\n"
     ]
    }
   ],
   "source": [
    "pip install serpapi\n"
   ]
  },
  {
   "cell_type": "code",
   "execution_count": 41,
   "id": "5fe57fb5-2200-4f2d-aa24-c5536627ba26",
   "metadata": {},
   "outputs": [
    {
     "name": "stdout",
     "output_type": "stream",
     "text": [
      "{\n",
      "  \"search_metadata\": {\n",
      "    \"id\": \"search_p1LMWreyyWIlELK7geZYDKaP\",\n",
      "    \"status\": \"Success\",\n",
      "    \"created_at\": \"2025-10-07T19:38:00Z\",\n",
      "    \"request_time_taken\": 1.15,\n",
      "    \"parsing_time_taken\": 0.1,\n",
      "    \"total_time_taken\": 1.25,\n",
      "    \"request_url\": \"https://www.google.com/search?q=Dolo+500&oq=Dolo+500&gl=us&hl=en&udm=28&uule=w+CAIQICIWTmV3IFlvcmssVW5pdGVkIFN0YXRlcw\",\n",
      "    \"html_url\": \"https://www.searchapi.io/api/v1/searches/search_p1LMWreyyWIlELK7geZYDKaP.html\",\n",
      "    \"json_url\": \"https://www.searchapi.io/api/v1/searches/search_p1LMWreyyWIlELK7geZYDKaP\"\n",
      "  },\n",
      "  \"search_parameters\": {\n",
      "    \"engine\": \"google_shopping\",\n",
      "    \"q\": \"Dolo 500\",\n",
      "    \"location\": \"New York,United States\",\n",
      "    \"location_used\": \"New York,United States\",\n",
      "    \"google_domain\": \"google.com\",\n",
      "    \"hl\": \"en\",\n",
      "    \"gl\": \"us\"\n",
      "  },\n",
      "  \"search_information\": {\n",
      "    \"query_displayed\": \"Dolo 500\",\n",
      "    \"detected_location\": \"New York\"\n",
      "  },\n",
      "  \"filters\": [\n",
      "    {\n",
      "      \"options\": [\n",
      "        {\n",
      "          \"text\": \"Nearby\",\n",
      "          \"shoprs\": \"CAEYAyoIZG9sbyA1MDAyDAgDEgZOZWFyYnkYAli-uCBgAg\"\n",
      "        },\n",
      "        {\n",
      "          \"text\": \"Get it fast\",\n",
      "          \"shoprs\": \"CAESDZoBCgoIEAM4AUAFSAEYFCoIZG9sbyA1MDAyJAgUEgtHZXQgaXQgZmFzdCINmgEKCggQAzgBQAVIASoEEAEYAWAC\"\n",
      "        },\n",
      "        {\n",
      "          \"text\": \"Small business\",\n",
      "          \"shoprs\": \"CAESAmoAGBYqCGRvbG8gNTAwMhwIFhIOU21hbGwgYnVzaW5lc3MiAmoAKgQQARgBYAI\"\n",
      "        }\n",
      "      ]\n",
      "    },\n",
      "    {\n",
      "      \"type\": \"Active Ingredient\",\n",
      "      \"options\": [\n",
      "        {\n",
      "          \"text\": \"Acetaminophen\",\n",
      "          \"shoprs\": \"CAEYASoIZG9sbyA1MDAyHwgBEg1BY2V0YW1pbm9waGVuOgwIz-n2ARDR6fYBMABYvrggYAI\"\n",
      "        },\n",
      "        {\n",
      "          \"text\": \"Ibuprofen\",\n",
      "          \"shoprs\": \"CAEYASoIZG9sbyA1MDAyGwgBEglJYnVwcm9mZW46DAjP6fYBENDp9gEwAFi-uCBgAg\"\n",
      "        },\n",
      "        {\n",
      "          \"text\": \"Aspirin\",\n",
      "          \"shoprs\": \"CAEYASoIZG9sbyA1MDAyGQgBEgdBc3BpcmluOgwIz-n2ARCli4MCMABYvrggYAI\"\n",
      "        }\n",
      "      ]\n",
      "    },\n",
      "    {\n",
      "      \"type\": \"Pain Relief\",\n",
      "      \"options\": [\n",
      "        {\n",
      "          \"text\": \"Arthritis\",\n",
      "          \"shoprs\": \"CAEYASoIZG9sbyA1MDAyGggBEglBcnRocml0aXM6CwjYt1EQhM-gATACWL64IGAC\"\n",
      "        },\n",
      "        {\n",
      "          \"text\": \"Menstrual Pain\",\n",
      "          \"shoprs\": \"CAEYASoIZG9sbyA1MDAyHggBEg5NZW5zdHJ1YWwgUGFpbjoKCNi3URDbt1EwAli-uCBgAg\"\n",
      "        },\n",
      "        {\n",
      "          \"text\": \"Migraine\",\n",
      "          \"shoprs\": \"CAEYASoIZG9sbyA1MDAyGAgBEghNaWdyYWluZToKCNi3URDat1EwAli-uCBgAg\"\n",
      "        },\n",
      "        {\n",
      "          \"text\": \"Joint\",\n",
      "          \"shoprs\": \"CAEYASoIZG9sbyA1MDAyFQgBEgVKb2ludDoKCNi3URDZt1EwAli-uCBgAg\"\n",
      "        },\n",
      "        {\n",
      "          \"text\": \"Nerve Pain\",\n",
      "          \"shoprs\": \"CAEYASoIZG9sbyA1MDAyGwgBEgpOZXJ2ZSBQYWluOgsI2LdREO6f2QMwAli-uCBgAg\"\n",
      "        }\n",
      "      ]\n",
      "    },\n",
      "    {\n",
      "      \"type\": \"Features\",\n",
      "      \"options\": [\n",
      "        {\n",
      "          \"text\": \"Fever Reducer\",\n",
      "          \"shoprs\": \"CAEYASoIZG9sbyA1MDAyHwgBEg1GZXZlciBSZWR1Y2VyOgwIqsL3ARCrwvcBMANYvrggYAI\"\n",
      "        },\n",
      "        {\n",
      "          \"text\": \"For Kids\",\n",
      "          \"shoprs\": \"CAEYASoIZG9sbyA1MDAyHAgBEghGb3IgS2lkcxgCOgwIk5PbAxCbktsDMANYvrggYAI\"\n",
      "        },\n",
      "        {\n",
      "          \"text\": \"FSA\",\n",
      "          \"shoprs\": \"CAEYASoIZG9sbyA1MDAyFQgBEgNGU0E6DAjxk9sDEN6U2wMwA1i-uCBgAg\"\n",
      "        }\n",
      "      ]\n",
      "    },\n",
      "    {\n",
      "      \"type\": \"Product Rating\",\n",
      "      \"options\": [\n",
      "        {\n",
      "          \"text\": \"4 and up\",\n",
      "          \"shoprs\": \"CAESBWIDCJADGB4qCGRvbG8gNTAwMhUIHhIINCBhbmQgdXAiBWIDCJADQARgAg\"\n",
      "        }\n",
      "      ]\n",
      "    },\n",
      "    {\n",
      "      \"type\": \"Price\",\n",
      "      \"options\": [\n",
      "        {\n",
      "          \"text\": \"Under $8\",\n",
      "          \"shoprs\": \"CAESDRILEQAAAACAhF5BGAEYBSoIZG9sbyA1MDAyIQgFEghVbmRlciAkOBgCIg0SCxEAAAAAgIReQRgBKgIYAVi-uCBgAg\"\n",
      "        },\n",
      "        {\n",
      "          \"text\": \"Over $8\",\n",
      "          \"shoprs\": \"CAESDRILCQAAAACAhF5BGAEYBSoIZG9sbyA1MDAyIAgFEgdPdmVyICQ4GAIiDRILCQAAAACAhF5BGAEqAhgBWL64IGAC\"\n",
      "        }\n",
      "      ]\n",
      "    },\n",
      "    {\n",
      "      \"type\": \"Stores\",\n",
      "      \"options\": [\n",
      "        {\n",
      "          \"text\": \"eBay\",\n",
      "          \"shoprs\": \"CAEYAioIZG9sbyA1MDAyCAgCEgRlQmF5WL64IGAC\"\n",
      "        },\n",
      "        {\n",
      "          \"text\": \"Tractor Supply Company\",\n",
      "          \"shoprs\": \"CAEYAioIZG9sbyA1MDAyGggCEhZUcmFjdG9yIFN1cHBseSBDb21wYW55WL64IGAC\"\n",
      "        },\n",
      "        {\n",
      "          \"text\": \"Pasteur Pharmacy\",\n",
      "          \"shoprs\": \"CAEYAioIZG9sbyA1MDAyFAgCEhBQYXN0ZXVyIFBoYXJtYWN5WL64IGAC\"\n",
      "        }\n",
      "      ]\n",
      "    },\n",
      "    {\n",
      "      \"type\": \"Brand\",\n",
      "      \"options\": [\n",
      "        {\n",
      "          \"text\": \"GSK\",\n",
      "          \"shoprs\": \"CAEYASoIZG9sbyA1MDAyEwgBEgNHU0s6CgiD8zwQ2udoMAFYvrggYAI\"\n",
      "        },\n",
      "        {\n",
      "          \"text\": \"USP Zdrowie\",\n",
      "          \"shoprs\": \"CAEYASoIZG9sbyA1MDAyHAgBEgtVU1AgWmRyb3dpZToLCIPzPBDJopACMAFYvrggYAI\"\n",
      "        },\n",
      "        {\n",
      "          \"text\": \"Leader Bikes\",\n",
      "          \"shoprs\": \"CAEYASoIZG9sbyA1MDAyHAgBEgxMZWFkZXIgQmlrZXM6CgiD8zwQ8d09MAFYvrggYAI\"\n",
      "        },\n",
      "        {\n",
      "          \"text\": \"Advance Tabco\",\n",
      "          \"shoprs\": \"CAEYASoIZG9sbyA1MDAyHQgBEg1BZHZhbmNlIFRhYmNvOgoIg_M8EOD8PjABWL64IGAC\"\n",
      "        }\n",
      "      ]\n",
      "    },\n",
      "    {\n",
      "      \"type\": \"Sort by\",\n",
      "      \"options\": [\n",
      "        {\n",
      "          \"text\": \"Price low to high\",\n",
      "          \"shoprs\": \"CAEYFyoIZG9sbyA1MDAyHQgXEhFQcmljZSBsb3cgdG8gaGlnaCoEEAEYAVABYAKIAQE\"\n",
      "        },\n",
      "        {\n",
      "          \"text\": \"Price high to low\",\n",
      "          \"shoprs\": \"CAEYFyoIZG9sbyA1MDAyHQgXEhFQcmljZSBoaWdoIHRvIGxvdyoEEAEYAVACYAKIAQI\"\n",
      "        },\n",
      "        {\n",
      "          \"text\": \"Rating high to low\",\n",
      "          \"shoprs\": \"CAEYFyoIZG9sbyA1MDAyHggXEhJSYXRpbmcgaGlnaCB0byBsb3cqBBABGAFQA2ACiAED\"\n",
      "        }\n",
      "      ]\n",
      "    }\n",
      "  ],\n",
      "  \"shopping_results\": [\n",
      "    {\n",
      "      \"position\": 1,\n",
      "      \"title\": \"Panadol Advance 500mg\",\n",
      "      \"product_link\": \"https://www.google.com/search?q=Dolo+500&oq=Dolo+500&gl=us&hl=en&udm=28&uule=w+CAIQICIWTmV3IFlvcmssVW5pdGVkIFN0YXRlcw#oshopproduct=gid:7910339383705854920,mid:576462841256193487,oid:3401954575286288027,iid:8979888988082473728,rds:UENfNzkxMDMzOTM4MzcwNTg1NDkyMHxQUk9EX1BDXzc5MTAzMzkzODM3MDU4NTQ5MjA=,pvt:hg,pvo:3&oshop=apv&pvs=0\",\n",
      "      \"offers\": \"& more\",\n",
      "      \"offers_link\": \"https://www.google.com/search?q=Dolo+500&oq=Dolo+500&gl=us&hl=en&udm=28&uule=w+CAIQICIWTmV3IFlvcmssVW5pdGVkIFN0YXRlcw#oshopproduct=gid:7910339383705854920,mid:576462841256193487,oid:3401954575286288027,iid:8979888988082473728,rds:UENfNzkxMDMzOTM4MzcwNTg1NDkyMHxQUk9EX1BDXzc5MTAzMzkzODM3MDU4NTQ5MjA=,pvt:hg,pvo:3&oshop=apv&pvs=0\",\n",
      "      \"price\": \"$14.99\",\n",
      "      \"extracted_price\": 14.99,\n",
      "      \"rating\": 4.6,\n",
      "      \"reviews\": 209,\n",
      "      \"delivery_return\": \"30-day returns\",\n",
      "      \"seller\": \"Pasteur Pharmacy\",\n",
      "      \"thumbnail\": \"https://encrypted-tbn0.gstatic.com/shopping?q=tbn:ANd9GcSYviHKPF-zAsUiW7w8geIEp_CBGq9Z-KYee0XAVCUw3Oj51wW6A5x58B5VXsdnCkNBgTQeB-Ov8QL6rWveKRO2ufDdp1TeOtSr0jQHW6iN1fKUO5zvt8OnCQ\",\n",
      "      \"product_token\": \"eyJxIjoiRG9sbyA1MDAiLCJwcm9kdWN0aWQiOm51bGwsImNhdGFsb2dpZCI6IjExMzM4NDg4MDQ2NDE5OTkzNjkyIiwiZ3BjaWQiOiI3OTEwMzM5MzgzNzA1ODU0OTIwIiwiaGVhZGxpbmVPZmZlckRvY2lkIjoiMzQwMTk1NDU3NTI4NjI4ODAyNyIsInJkcyI6IlBDXzc5MTAzMzkzODM3MDU4NTQ5MjB8UFJPRF9QQ183OTEwMzM5MzgzNzA1ODU0OTIwIiwiaW1hZ2VEb2NpZCI6Ijg5Nzk4ODg5ODgwODI0NzM3MjgiLCJwdm8iOjMsImVpIjoiR1d6bGFKV3NETm1hdnIwUHNZaVZJQSIsIm1pZCI6IjU3NjQ2Mjg0MTI1NjE5MzQ4NyIsInB2dCI6ImhnIiwiZ2wiOiJ1cyIsImhsIjoiZW4iLCJ1dWxlIjoidytDQUlRSUNJV1RtVjNJRmx2Y21zc1ZXNXBkR1ZrSUZOMFlYUmxjdyJ9\"\n",
      "    },\n",
      "    {\n",
      "      \"position\": 2,\n",
      "      \"title\": \"Dolostop 500mg 20 tablets\",\n",
      "      \"product_link\": \"https://www.google.com/search?q=Dolo+500&oq=Dolo+500&gl=us&hl=en&udm=28&uule=w+CAIQICIWTmV3IFlvcmssVW5pdGVkIFN0YXRlcw#oshopproduct=oid:5322953556681984438,iid:16082305035227948476,pvt:hg,pvo:3&oshop=apv&pvs=0\",\n",
      "      \"offers_link\": \"https://www.google.com/search?q=Dolo+500&oq=Dolo+500&gl=us&hl=en&udm=28&uule=w+CAIQICIWTmV3IFlvcmssVW5pdGVkIFN0YXRlcw#oshopproduct=oid:5322953556681984438,iid:16082305035227948476,pvt:hg,pvo:3&oshop=apv&pvs=0\",\n",
      "      \"price\": \"$2.29\",\n",
      "      \"extracted_price\": 2.29,\n",
      "      \"installment\": {\n",
      "        \"down_payment\": \"$2.29\",\n",
      "        \"extracted_down_payment\": 2.29,\n",
      "        \"cost_per_month\": \"$2.29(€2)\",\n",
      "        \"extracted_cost_per_month\": 2.29,\n",
      "        \"extracted_cost_per_moth\": 2.29\n",
      "      },\n",
      "      \"delivery\": \"Free delivery\",\n",
      "      \"delivery_return\": \"14-day returns\",\n",
      "      \"seller\": \"Farmácia Nova da Maia\",\n",
      "      \"thumbnail\": \"https://encrypted-tbn0.gstatic.com/shopping?q=tbn:ANd9GcQyt1fUQn7rpFMtmTWlV5DxGNanM0b0fU2shEvJoNda32KsrYkH1P-PvRGhI2ZTPBl4Seo7NNSUBK2yI4W7oMMuxN-LKXkZBPs9X3O--xTnIBxEsHJOMbV5Ow\",\n",
      "      \"product_token\": \"eyJxIjoiRG9sbyA1MDAiLCJwcm9kdWN0aWQiOm51bGwsImNhdGFsb2dpZCI6IiIsImdwY2lkIjoiIiwiaGVhZGxpbmVPZmZlckRvY2lkIjoiNTMyMjk1MzU1NjY4MTk4NDQzOCIsInJkcyI6IiIsImltYWdlRG9jaWQiOiIxNjA4MjMwNTAzNTIyNzk0ODQ3NiIsInB2byI6MywiZWkiOiJHV3psYUpXc0RObWF2cjBQc1lpVklBIiwibWlkIjoiIiwicHZ0IjoiaGciLCJnbCI6InVzIiwiaGwiOiJlbiIsInV1bGUiOiJ3K0NBSVFJQ0lXVG1WM0lGbHZjbXNzVlc1cGRHVmtJRk4wWVhSbGN3In0=\"\n",
      "    },\n",
      "    {\n",
      "      \"position\": 3,\n",
      "      \"title\": \"Tylenol LDSP Tylenol Extra Strength 6 ct\",\n",
      "      \"product_link\": \"https://www.google.com/search?q=Dolo+500&oq=Dolo+500&gl=us&hl=en&udm=28&uule=w+CAIQICIWTmV3IFlvcmssVW5pdGVkIFN0YXRlcw#oshopproduct=oid:2375422767666664225,iid:9453371386581346830,rds:UENfMTAxODg1NTA0NDc3Njk2MDk2NXxQUk9EX1BDXzEwMTg4NTUwNDQ3NzY5NjA5NjU=,pvt:hg,pvo:3&oshop=apv&pvs=0\",\n",
      "      \"offers_link\": \"https://www.google.com/search?q=Dolo+500&oq=Dolo+500&gl=us&hl=en&udm=28&uule=w+CAIQICIWTmV3IFlvcmssVW5pdGVkIFN0YXRlcw#oshopproduct=oid:2375422767666664225,iid:9453371386581346830,rds:UENfMTAxODg1NTA0NDc3Njk2MDk2NXxQUk9EX1BDXzEwMTg4NTUwNDQ3NzY5NjA5NjU=,pvt:hg,pvo:3&oshop=apv&pvs=0\",\n",
      "      \"price\": \"$3.49\",\n",
      "      \"extracted_price\": 3.49,\n",
      "      \"rating\": 4.7,\n",
      "      \"reviews\": 16000,\n",
      "      \"delivery_return\": \"30-day returns\",\n",
      "      \"seller\": \"Tractor Supply Company\",\n",
      "      \"thumbnail\": \"https://encrypted-tbn2.gstatic.com/shopping?q=tbn:ANd9GcSn69j1ZHajsxsOgiLKGxZHQb0ImrZgqwa_9RhinnkwqWnpvN9CguoUC9iM7pG5C05-poJcf0w6AA4iboh3dTvsCHS7Ww9hlA\",\n",
      "      \"product_token\": \"eyJxIjoiRG9sbyA1MDAiLCJwcm9kdWN0aWQiOm51bGwsImNhdGFsb2dpZCI6IiIsImdwY2lkIjoiIiwiaGVhZGxpbmVPZmZlckRvY2lkIjoiMjM3NTQyMjc2NzY2NjY2NDIyNSIsInJkcyI6IlBDXzEwMTg4NTUwNDQ3NzY5NjA5NjV8UFJPRF9QQ18xMDE4ODU1MDQ0Nzc2OTYwOTY1IiwiaW1hZ2VEb2NpZCI6Ijk0NTMzNzEzODY1ODEzNDY4MzAiLCJwdm8iOjMsImVpIjoiR1d6bGFKV3NETm1hdnIwUHNZaVZJQSIsIm1pZCI6IiIsInB2dCI6ImhnIiwiZ2wiOiJ1cyIsImhsIjoiZW4iLCJ1dWxlIjoidytDQUlRSUNJV1RtVjNJRmx2Y21zc1ZXNXBkR1ZrSUZOMFlYUmxjdyJ9\"\n",
      "    },\n",
      "    {\n",
      "      \"position\": 4,\n",
      "      \"title\": \"Panadol Extra Strength 500 paracetamol 50/2 cápsulas 07/2025\",\n",
      "      \"product_link\": \"https://www.google.com/search?q=Dolo+500&oq=Dolo+500&gl=us&hl=en&udm=28&uule=w+CAIQICIWTmV3IFlvcmssVW5pdGVkIFN0YXRlcw#oshopproduct=oid:6616401268934803281,iid:7909192943027572148,rds:UENfMTgwMjMyMTk4NzIwNzY1OTUzMjZ8UFJPRF9QQ18xODAyMzIxOTg3MjA3NjU5NTMyNg==,pvt:hg,pvo:3&oshop=apv&pvs=0\",\n",
      "      \"offers_link\": \"https://www.google.com/search?q=Dolo+500&oq=Dolo+500&gl=us&hl=en&udm=28&uule=w+CAIQICIWTmV3IFlvcmssVW5pdGVkIFN0YXRlcw#oshopproduct=oid:6616401268934803281,iid:7909192943027572148,rds:UENfMTgwMjMyMTk4NzIwNzY1OTUzMjZ8UFJPRF9QQ18xODAyMzIxOTg3MjA3NjU5NTMyNg==,pvt:hg,pvo:3&oshop=apv&pvs=0\",\n",
      "      \"price\": \"$13.99\",\n",
      "      \"extracted_price\": 13.99,\n",
      "      \"rating\": 4.6,\n",
      "      \"reviews\": 344,\n",
      "      \"delivery\": \"Free delivery\",\n",
      "      \"seller\": \"eBay\",\n",
      "      \"thumbnail\": \"https://encrypted-tbn0.gstatic.com/shopping?q=tbn:ANd9GcQoOpf3aCL7mzChS9F8edzdNFtHboc84CGcseOo02GXid6MNbhS10IazxCbQfKYaLSUeYLsYvjJ_gW9LHhwO4zEYZ_TyRHCF8GH68xMmt8bcgHMmbptK3teaA\",\n",
      "      \"product_token\": \"eyJxIjoiRG9sbyA1MDAiLCJwcm9kdWN0aWQiOm51bGwsImNhdGFsb2dpZCI6IiIsImdwY2lkIjoiIiwiaGVhZGxpbmVPZmZlckRvY2lkIjoiNjYxNjQwMTI2ODkzNDgwMzI4MSIsInJkcyI6IlBDXzE4MDIzMjE5ODcyMDc2NTk1MzI2fFBST0RfUENfMTgwMjMyMTk4NzIwNzY1OTUzMjYiLCJpbWFnZURvY2lkIjoiNzkwOTE5Mjk0MzAyNzU3MjE0OCIsInB2byI6MywiZWkiOiJHV3psYUpXc0RObWF2cjBQc1lpVklBIiwibWlkIjoiIiwicHZ0IjoiaGciLCJnbCI6InVzIiwiaGwiOiJlbiIsInV1bGUiOiJ3K0NBSVFJQ0lXVG1WM0lGbHZjbXNzVlc1cGRHVmtJRk4wWVhSbGN3In0=\"\n",
      "    },\n",
      "    {\n",
      "      \"position\": 5,\n",
      "      \"title\": \"Good Neighbor Pharmacy PM Pain RLF 25-500 mg Cplt\",\n",
      "      \"product_link\": \"https://www.google.com/search?q=Dolo+500&oq=Dolo+500&gl=us&hl=en&udm=28&uule=w+CAIQICIWTmV3IFlvcmssVW5pdGVkIFN0YXRlcw#oshopproduct=gid:15012932480315408199,mid:576462863717360114,oid:4745720105170110310,iid:4598573263134513184,pvt:hg,pvo:3&oshop=apv&pvs=0\",\n",
      "      \"offers_link\": \"https://www.google.com/search?q=Dolo+500&oq=Dolo+500&gl=us&hl=en&udm=28&uule=w+CAIQICIWTmV3IFlvcmssVW5pdGVkIFN0YXRlcw#oshopproduct=gid:15012932480315408199,mid:576462863717360114,oid:4745720105170110310,iid:4598573263134513184,pvt:hg,pvo:3&oshop=apv&pvs=0\",\n",
      "      \"price\": \"$7.49\",\n",
      "      \"extracted_price\": 7.49,\n",
      "      \"seller\": \"Tiffany Natural Pharmacy\",\n",
      "      \"thumbnail\": \"https://encrypted-tbn0.gstatic.com/shopping?q=tbn:ANd9GcSlb7G9vCUU15oAMhpqulVLboxmYN-h4oQ1nw8By5RczqR9iyMZ_o2yTj4Kym8JnrU_7Mt9RttE9TgRpfHG6PqTPE5h1gvyS7OfTMYZ2kvmc7d5P8HAW495Pg\",\n",
      "      \"product_token\": \"eyJxIjoiRG9sbyA1MDAiLCJwcm9kdWN0aWQiOm51bGwsImNhdGFsb2dpZCI6IjM5ODI5MjIwNjkzODMyNzc0MDYiLCJncGNpZCI6IjE1MDEyOTMyNDgwMzE1NDA4MTk5IiwiaGVhZGxpbmVPZmZlckRvY2lkIjoiNDc0NTcyMDEwNTE3MDExMDMxMCIsInJkcyI6IiIsImltYWdlRG9jaWQiOiI0NTk4NTczMjYzMTM0NTEzMTg0IiwicHZvIjozLCJlaSI6IkdXemxhSldzRE5tYXZyMFBzWWlWSUEiLCJtaWQiOiI1NzY0NjI4NjM3MTczNjAxMTQiLCJwdnQiOiJoZyIsImdsIjoidXMiLCJobCI6ImVuIiwidXVsZSI6IncrQ0FJUUlDSVdUbVYzSUZsdmNtc3NWVzVwZEdWa0lGTjBZWFJsY3cifQ==\"\n",
      "    },\n",
      "    {\n",
      "      \"position\": 6,\n",
      "      \"title\": \"Tylenol Extra Strength 500mg Pain Reliever Fever Reducer Coated Tablets, 100 Count\",\n",
      "      \"product_link\": \"https://www.google.com/search?q=Dolo+500&oq=Dolo+500&gl=us&hl=en&udm=28&uule=w+CAIQICIWTmV3IFlvcmssVW5pdGVkIFN0YXRlcw#oshopproduct=oid:8894294700640484346,iid:12566623304083458057,rds:UENfMTAxODg1NTA0NDc3Njk2MDk2NXxQUk9EX1BDXzEwMTg4NTUwNDQ3NzY5NjA5NjU=,pvt:hg,pvo:3&oshop=apv&pvs=0\",\n",
      "      \"offers_link\": \"https://www.google.com/search?q=Dolo+500&oq=Dolo+500&gl=us&hl=en&udm=28&uule=w+CAIQICIWTmV3IFlvcmssVW5pdGVkIFN0YXRlcw#oshopproduct=oid:8894294700640484346,iid:12566623304083458057,rds:UENfMTAxODg1NTA0NDc3Njk2MDk2NXxQUk9EX1BDXzEwMTg4NTUwNDQ3NzY5NjA5NjU=,pvt:hg,pvo:3&oshop=apv&pvs=0\",\n",
      "      \"price\": \"$15.95\",\n",
      "      \"extracted_price\": 15.95,\n",
      "      \"original_price\": \"$20\",\n",
      "      \"extracted_original_price\": 20.0,\n",
      "      \"rating\": 4.7,\n",
      "      \"reviews\": 16000,\n",
      "      \"tag\": \"20% OFF\",\n",
      "      \"delivery\": \"Free delivery on $99+\",\n",
      "      \"delivery_return\": \"30-day returns\",\n",
      "      \"seller\": \"Mountainside Medical Equipment\",\n",
      "      \"thumbnail\": \"https://encrypted-tbn1.gstatic.com/shopping?q=tbn:ANd9GcRE_6VCDDtVazwIurzGSKHgzEpo9yPlmcgWfBqjYA_mYuHwXnIbCd-OxL_V0iEweNP5p-1NXILrcKsV3o3d1GOUe5PqIiQk3qcMiNQWo-RssdiUV15gwd3bow\",\n",
      "      \"product_token\": \"eyJxIjoiRG9sbyA1MDAiLCJwcm9kdWN0aWQiOm51bGwsImNhdGFsb2dpZCI6IiIsImdwY2lkIjoiIiwiaGVhZGxpbmVPZmZlckRvY2lkIjoiODg5NDI5NDcwMDY0MDQ4NDM0NiIsInJkcyI6IlBDXzEwMTg4NTUwNDQ3NzY5NjA5NjV8UFJPRF9QQ18xMDE4ODU1MDQ0Nzc2OTYwOTY1IiwiaW1hZ2VEb2NpZCI6IjEyNTY2NjIzMzA0MDgzNDU4MDU3IiwicHZvIjozLCJlaSI6IkdXemxhSldzRE5tYXZyMFBzWWlWSUEiLCJtaWQiOiIiLCJwdnQiOiJoZyIsImdsIjoidXMiLCJobCI6ImVuIiwidXVsZSI6IncrQ0FJUUlDSVdUbVYzSUZsdmNtc3NWVzVwZEdWa0lGTjBZWFJsY3cifQ==\"\n",
      "    },\n",
      "    {\n",
      "      \"position\": 7,\n",
      "      \"title\": \"Foster And Thrive Extra Strength Pain Relief\",\n",
      "      \"product_link\": \"https://www.google.com/search?q=Dolo+500&oq=Dolo+500&gl=us&hl=en&udm=28&uule=w+CAIQICIWTmV3IFlvcmssVW5pdGVkIFN0YXRlcw#oshopproduct=gid:13438373198303432755,mid:576462900113573689,oid:8390734344673601036,iid:8228353024945880213,pvt:hg,pvo:3&oshop=apv&pvs=0\",\n",
      "      \"offers_link\": \"https://www.google.com/search?q=Dolo+500&oq=Dolo+500&gl=us&hl=en&udm=28&uule=w+CAIQICIWTmV3IFlvcmssVW5pdGVkIFN0YXRlcw#oshopproduct=gid:13438373198303432755,mid:576462900113573689,oid:8390734344673601036,iid:8228353024945880213,pvt:hg,pvo:3&oshop=apv&pvs=0\",\n",
      "      \"price\": \"$7.99\",\n",
      "      \"extracted_price\": 7.99,\n",
      "      \"seller\": \"Leroy Pharmacy\",\n",
      "      \"thumbnail\": \"https://encrypted-tbn1.gstatic.com/shopping?q=tbn:ANd9GcRQDgo_iSZH9egP17AZFezqY13navgHyVOIeJX3TbANzEWC84f1FWIRQNIvtpOgrg0kcnOdGZ0fihiMqoUrtXTw2lzCQZpB\",\n",
      "      \"product_token\": \"eyJxIjoiRG9sbyA1MDAiLCJwcm9kdWN0aWQiOm51bGwsImNhdGFsb2dpZCI6IjE0Mjk4MDAzMDQwNjEyNzc1NzIzIiwiZ3BjaWQiOiIxMzQzODM3MzE5ODMwMzQzMjc1NSIsImhlYWRsaW5lT2ZmZXJEb2NpZCI6IjgzOTA3MzQzNDQ2NzM2MDEwMzYiLCJyZHMiOiIiLCJpbWFnZURvY2lkIjoiODIyODM1MzAyNDk0NTg4MDIxMyIsInB2byI6MywiZWkiOiJHV3psYUpXc0RObWF2cjBQc1lpVklBIiwibWlkIjoiNTc2NDYyOTAwMTEzNTczNjg5IiwicHZ0IjoiaGciLCJnbCI6InVzIiwiaGwiOiJlbiIsInV1bGUiOiJ3K0NBSVFJQ0lXVG1WM0lGbHZjbXNzVlc1cGRHVmtJRk4wWVhSbGN3In0=\"\n",
      "    },\n",
      "    {\n",
      "      \"position\": 8,\n",
      "      \"title\": \"Extra Strength Tylenol\",\n",
      "      \"product_link\": \"https://www.google.com/search?q=Dolo+500&oq=Dolo+500&gl=us&hl=en&udm=28&uule=w+CAIQICIWTmV3IFlvcmssVW5pdGVkIFN0YXRlcw#oshopproduct=gid:1018855044776960965,mid:576462796495134932,oid:14362001358920725932,iid:11533300297544875473,rds:UENfMTAxODg1NTA0NDc3Njk2MDk2NXxQUk9EX1BDXzEwMTg4NTUwNDQ3NzY5NjA5NjU=,pvt:hg,pvo:3&oshop=apv&pvs=0\",\n",
      "      \"offers\": \"& more\",\n",
      "      \"offers_link\": \"https://www.google.com/search?q=Dolo+500&oq=Dolo+500&gl=us&hl=en&udm=28&uule=w+CAIQICIWTmV3IFlvcmssVW5pdGVkIFN0YXRlcw#oshopproduct=gid:1018855044776960965,mid:576462796495134932,oid:14362001358920725932,iid:11533300297544875473,rds:UENfMTAxODg1NTA0NDc3Njk2MDk2NXxQUk9EX1BDXzEwMTg4NTUwNDQ3NzY5NjA5NjU=,pvt:hg,pvo:3&oshop=apv&pvs=0\",\n",
      "      \"price\": \"$20.98\",\n",
      "      \"extracted_price\": 20.98,\n",
      "      \"rating\": 4.7,\n",
      "      \"reviews\": 16000,\n",
      "      \"seller\": \"eBay - fdxbuckhunter\",\n",
      "      \"thumbnail\": \"https://encrypted-tbn1.gstatic.com/shopping?q=tbn:ANd9GcStTWC01I26WlMKCFPfZzuniW-h1lZnSPmeJE4oWM8BjT_jtZWvZlSGafe8ohQe0IfFRSo5klavVE2uOm4WYvCbmTFmDr5zCw_b_5dDBcqoiCNjlWm8v8Ao\",\n",
      "      \"product_token\": \"eyJxIjoiRG9sbyA1MDAiLCJwcm9kdWN0aWQiOm51bGwsImNhdGFsb2dpZCI6IjM3Mzk1MjY1MTc3ODg2MTI4MDMiLCJncGNpZCI6IjEwMTg4NTUwNDQ3NzY5NjA5NjUiLCJoZWFkbGluZU9mZmVyRG9jaWQiOiIxNDM2MjAwMTM1ODkyMDcyNTkzMiIsInJkcyI6IlBDXzEwMTg4NTUwNDQ3NzY5NjA5NjV8UFJPRF9QQ18xMDE4ODU1MDQ0Nzc2OTYwOTY1IiwiaW1hZ2VEb2NpZCI6IjExNTMzMzAwMjk3NTQ0ODc1NDczIiwicHZvIjozLCJlaSI6IkdXemxhSldzRE5tYXZyMFBzWWlWSUEiLCJtaWQiOiI1NzY0NjI3OTY0OTUxMzQ5MzIiLCJwdnQiOiJoZyIsImdsIjoidXMiLCJobCI6ImVuIiwidXVsZSI6IncrQ0FJUUlDSVdUbVYzSUZsdmNtc3NWVzVwZEdWa0lGTjBZWFJsY3cifQ==\"\n",
      "    },\n",
      "    {\n",
      "      \"position\": 9,\n",
      "      \"title\": \"Etodolac Generic Lodine 500mg Tablet\",\n",
      "      \"product_link\": \"https://www.google.com/search?q=Dolo+500&oq=Dolo+500&gl=us&hl=en&udm=28&uule=w+CAIQICIWTmV3IFlvcmssVW5pdGVkIFN0YXRlcw#oshopproduct=gid:9899035841450171089,mid:576462715220222003,oid:2616326302261749242,iid:14638081443243306698,rds:UENfOTg5OTAzNTg0MTQ1MDE3MTA4OXxQUk9EX1BDXzk4OTkwMzU4NDE0NTAxNzEwODk=,pvt:hg,pvo:3&oshop=apv&pvs=0\",\n",
      "      \"offers_link\": \"https://www.google.com/search?q=Dolo+500&oq=Dolo+500&gl=us&hl=en&udm=28&uule=w+CAIQICIWTmV3IFlvcmssVW5pdGVkIFN0YXRlcw#oshopproduct=gid:9899035841450171089,mid:576462715220222003,oid:2616326302261749242,iid:14638081443243306698,rds:UENfOTg5OTAzNTg0MTQ1MDE3MTA4OXxQUk9EX1BDXzk4OTkwMzU4NDE0NTAxNzEwODk=,pvt:hg,pvo:3&oshop=apv&pvs=0\",\n",
      "      \"rating\": 5.0,\n",
      "      \"reviews\": 1,\n",
      "      \"seller\": \"King Community Pharmacy\",\n",
      "      \"thumbnail\": \"https://encrypted-tbn2.gstatic.com/shopping?q=tbn:ANd9GcRk2Q5930r9llTmn_nF-r8AwXlVDPZ-3efywvgXS2KgXgdWVd_lqHZiXi-ek2zfhxVx5KyQKjeuWtKNOxEran1WopMd0dcQ7Q\",\n",
      "      \"product_token\": \"eyJxIjoiRG9sbyA1MDAiLCJwcm9kdWN0aWQiOm51bGwsImNhdGFsb2dpZCI6Ijk1MjY5NTY2OTU0NDI3OTAxMzYiLCJncGNpZCI6Ijk4OTkwMzU4NDE0NTAxNzEwODkiLCJoZWFkbGluZU9mZmVyRG9jaWQiOiIyNjE2MzI2MzAyMjYxNzQ5MjQyIiwicmRzIjoiUENfOTg5OTAzNTg0MTQ1MDE3MTA4OXxQUk9EX1BDXzk4OTkwMzU4NDE0NTAxNzEwODkiLCJpbWFnZURvY2lkIjoiMTQ2MzgwODE0NDMyNDMzMDY2OTgiLCJwdm8iOjMsImVpIjoiR1d6bGFKV3NETm1hdnIwUHNZaVZJQSIsIm1pZCI6IjU3NjQ2MjcxNTIyMDIyMjAwMyIsInB2dCI6ImhnIiwiZ2wiOiJ1cyIsImhsIjoiZW4iLCJ1dWxlIjoidytDQUlRSUNJV1RtVjNJRmx2Y21zc1ZXNXBkR1ZrSUZOMFlYUmxjdyJ9\"\n",
      "    }\n",
      "  ],\n",
      "  \"all_filters_token\": \"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\"\n",
      "}\n"
     ]
    }
   ],
   "source": [
    "import requests\n",
    "\n",
    "url = \"https://www.searchapi.io/api/v1/search\"\n",
    "params = {\n",
    "  \"engine\": \"google_shopping\",\n",
    "  \"q\": \"Dolo 500\",\n",
    "  \"gl\": \"us\",\n",
    "  \"hl\": \"en\",\n",
    "  \"location\": \"New York,United States\",\n",
    "  \"api_key\": \"pYqYRA8smRUSGotm4AqdLk5g\"\n",
    "}\n",
    "\n",
    "response = requests.get(url, params=params)\n",
    "print(response.text)\n"
   ]
  },
  {
   "cell_type": "code",
   "execution_count": 43,
   "id": "e0989190-6123-4b7e-bc34-6118d21c0c65",
   "metadata": {},
   "outputs": [],
   "source": [
    "data = response.json()\n",
    "shopping_results = data[\"shopping_results\"]"
   ]
  },
  {
   "cell_type": "code",
   "execution_count": 44,
   "id": "49b7848e-81b7-41df-9d13-bdf570342021",
   "metadata": {},
   "outputs": [
    {
     "name": "stdout",
     "output_type": "stream",
     "text": [
      "[{'position': 1, 'title': 'Panadol Advance 500mg', 'product_link': 'https://www.google.com/search?q=Dolo+500&oq=Dolo+500&gl=us&hl=en&udm=28&uule=w+CAIQICIWTmV3IFlvcmssVW5pdGVkIFN0YXRlcw#oshopproduct=gid:7910339383705854920,mid:576462841256193487,oid:3401954575286288027,iid:8979888988082473728,rds:UENfNzkxMDMzOTM4MzcwNTg1NDkyMHxQUk9EX1BDXzc5MTAzMzkzODM3MDU4NTQ5MjA=,pvt:hg,pvo:3&oshop=apv&pvs=0', 'offers': '& more', 'offers_link': 'https://www.google.com/search?q=Dolo+500&oq=Dolo+500&gl=us&hl=en&udm=28&uule=w+CAIQICIWTmV3IFlvcmssVW5pdGVkIFN0YXRlcw#oshopproduct=gid:7910339383705854920,mid:576462841256193487,oid:3401954575286288027,iid:8979888988082473728,rds:UENfNzkxMDMzOTM4MzcwNTg1NDkyMHxQUk9EX1BDXzc5MTAzMzkzODM3MDU4NTQ5MjA=,pvt:hg,pvo:3&oshop=apv&pvs=0', 'price': '$14.99', 'extracted_price': 14.99, 'rating': 4.6, 'reviews': 209, 'delivery_return': '30-day returns', 'seller': 'Pasteur Pharmacy', 'thumbnail': 'https://encrypted-tbn0.gstatic.com/shopping?q=tbn:ANd9GcSYviHKPF-zAsUiW7w8geIEp_CBGq9Z-KYee0XAVCUw3Oj51wW6A5x58B5VXsdnCkNBgTQeB-Ov8QL6rWveKRO2ufDdp1TeOtSr0jQHW6iN1fKUO5zvt8OnCQ', 'product_token': 'eyJxIjoiRG9sbyA1MDAiLCJwcm9kdWN0aWQiOm51bGwsImNhdGFsb2dpZCI6IjExMzM4NDg4MDQ2NDE5OTkzNjkyIiwiZ3BjaWQiOiI3OTEwMzM5MzgzNzA1ODU0OTIwIiwiaGVhZGxpbmVPZmZlckRvY2lkIjoiMzQwMTk1NDU3NTI4NjI4ODAyNyIsInJkcyI6IlBDXzc5MTAzMzkzODM3MDU4NTQ5MjB8UFJPRF9QQ183OTEwMzM5MzgzNzA1ODU0OTIwIiwiaW1hZ2VEb2NpZCI6Ijg5Nzk4ODg5ODgwODI0NzM3MjgiLCJwdm8iOjMsImVpIjoiR1d6bGFKV3NETm1hdnIwUHNZaVZJQSIsIm1pZCI6IjU3NjQ2Mjg0MTI1NjE5MzQ4NyIsInB2dCI6ImhnIiwiZ2wiOiJ1cyIsImhsIjoiZW4iLCJ1dWxlIjoidytDQUlRSUNJV1RtVjNJRmx2Y21zc1ZXNXBkR1ZrSUZOMFlYUmxjdyJ9'}, {'position': 2, 'title': 'Dolostop 500mg 20 tablets', 'product_link': 'https://www.google.com/search?q=Dolo+500&oq=Dolo+500&gl=us&hl=en&udm=28&uule=w+CAIQICIWTmV3IFlvcmssVW5pdGVkIFN0YXRlcw#oshopproduct=oid:5322953556681984438,iid:16082305035227948476,pvt:hg,pvo:3&oshop=apv&pvs=0', 'offers_link': 'https://www.google.com/search?q=Dolo+500&oq=Dolo+500&gl=us&hl=en&udm=28&uule=w+CAIQICIWTmV3IFlvcmssVW5pdGVkIFN0YXRlcw#oshopproduct=oid:5322953556681984438,iid:16082305035227948476,pvt:hg,pvo:3&oshop=apv&pvs=0', 'price': '$2.29', 'extracted_price': 2.29, 'installment': {'down_payment': '$2.29', 'extracted_down_payment': 2.29, 'cost_per_month': '$2.29(€2)', 'extracted_cost_per_month': 2.29, 'extracted_cost_per_moth': 2.29}, 'delivery': 'Free delivery', 'delivery_return': '14-day returns', 'seller': 'Farmácia Nova da Maia', 'thumbnail': 'https://encrypted-tbn0.gstatic.com/shopping?q=tbn:ANd9GcQyt1fUQn7rpFMtmTWlV5DxGNanM0b0fU2shEvJoNda32KsrYkH1P-PvRGhI2ZTPBl4Seo7NNSUBK2yI4W7oMMuxN-LKXkZBPs9X3O--xTnIBxEsHJOMbV5Ow', 'product_token': 'eyJxIjoiRG9sbyA1MDAiLCJwcm9kdWN0aWQiOm51bGwsImNhdGFsb2dpZCI6IiIsImdwY2lkIjoiIiwiaGVhZGxpbmVPZmZlckRvY2lkIjoiNTMyMjk1MzU1NjY4MTk4NDQzOCIsInJkcyI6IiIsImltYWdlRG9jaWQiOiIxNjA4MjMwNTAzNTIyNzk0ODQ3NiIsInB2byI6MywiZWkiOiJHV3psYUpXc0RObWF2cjBQc1lpVklBIiwibWlkIjoiIiwicHZ0IjoiaGciLCJnbCI6InVzIiwiaGwiOiJlbiIsInV1bGUiOiJ3K0NBSVFJQ0lXVG1WM0lGbHZjbXNzVlc1cGRHVmtJRk4wWVhSbGN3In0='}, {'position': 3, 'title': 'Tylenol LDSP Tylenol Extra Strength 6 ct', 'product_link': 'https://www.google.com/search?q=Dolo+500&oq=Dolo+500&gl=us&hl=en&udm=28&uule=w+CAIQICIWTmV3IFlvcmssVW5pdGVkIFN0YXRlcw#oshopproduct=oid:2375422767666664225,iid:9453371386581346830,rds:UENfMTAxODg1NTA0NDc3Njk2MDk2NXxQUk9EX1BDXzEwMTg4NTUwNDQ3NzY5NjA5NjU=,pvt:hg,pvo:3&oshop=apv&pvs=0', 'offers_link': 'https://www.google.com/search?q=Dolo+500&oq=Dolo+500&gl=us&hl=en&udm=28&uule=w+CAIQICIWTmV3IFlvcmssVW5pdGVkIFN0YXRlcw#oshopproduct=oid:2375422767666664225,iid:9453371386581346830,rds:UENfMTAxODg1NTA0NDc3Njk2MDk2NXxQUk9EX1BDXzEwMTg4NTUwNDQ3NzY5NjA5NjU=,pvt:hg,pvo:3&oshop=apv&pvs=0', 'price': '$3.49', 'extracted_price': 3.49, 'rating': 4.7, 'reviews': 16000, 'delivery_return': '30-day returns', 'seller': 'Tractor Supply Company', 'thumbnail': 'https://encrypted-tbn2.gstatic.com/shopping?q=tbn:ANd9GcSn69j1ZHajsxsOgiLKGxZHQb0ImrZgqwa_9RhinnkwqWnpvN9CguoUC9iM7pG5C05-poJcf0w6AA4iboh3dTvsCHS7Ww9hlA', 'product_token': 'eyJxIjoiRG9sbyA1MDAiLCJwcm9kdWN0aWQiOm51bGwsImNhdGFsb2dpZCI6IiIsImdwY2lkIjoiIiwiaGVhZGxpbmVPZmZlckRvY2lkIjoiMjM3NTQyMjc2NzY2NjY2NDIyNSIsInJkcyI6IlBDXzEwMTg4NTUwNDQ3NzY5NjA5NjV8UFJPRF9QQ18xMDE4ODU1MDQ0Nzc2OTYwOTY1IiwiaW1hZ2VEb2NpZCI6Ijk0NTMzNzEzODY1ODEzNDY4MzAiLCJwdm8iOjMsImVpIjoiR1d6bGFKV3NETm1hdnIwUHNZaVZJQSIsIm1pZCI6IiIsInB2dCI6ImhnIiwiZ2wiOiJ1cyIsImhsIjoiZW4iLCJ1dWxlIjoidytDQUlRSUNJV1RtVjNJRmx2Y21zc1ZXNXBkR1ZrSUZOMFlYUmxjdyJ9'}, {'position': 4, 'title': 'Panadol Extra Strength 500 paracetamol 50/2 cápsulas 07/2025', 'product_link': 'https://www.google.com/search?q=Dolo+500&oq=Dolo+500&gl=us&hl=en&udm=28&uule=w+CAIQICIWTmV3IFlvcmssVW5pdGVkIFN0YXRlcw#oshopproduct=oid:6616401268934803281,iid:7909192943027572148,rds:UENfMTgwMjMyMTk4NzIwNzY1OTUzMjZ8UFJPRF9QQ18xODAyMzIxOTg3MjA3NjU5NTMyNg==,pvt:hg,pvo:3&oshop=apv&pvs=0', 'offers_link': 'https://www.google.com/search?q=Dolo+500&oq=Dolo+500&gl=us&hl=en&udm=28&uule=w+CAIQICIWTmV3IFlvcmssVW5pdGVkIFN0YXRlcw#oshopproduct=oid:6616401268934803281,iid:7909192943027572148,rds:UENfMTgwMjMyMTk4NzIwNzY1OTUzMjZ8UFJPRF9QQ18xODAyMzIxOTg3MjA3NjU5NTMyNg==,pvt:hg,pvo:3&oshop=apv&pvs=0', 'price': '$13.99', 'extracted_price': 13.99, 'rating': 4.6, 'reviews': 344, 'delivery': 'Free delivery', 'seller': 'eBay', 'thumbnail': 'https://encrypted-tbn0.gstatic.com/shopping?q=tbn:ANd9GcQoOpf3aCL7mzChS9F8edzdNFtHboc84CGcseOo02GXid6MNbhS10IazxCbQfKYaLSUeYLsYvjJ_gW9LHhwO4zEYZ_TyRHCF8GH68xMmt8bcgHMmbptK3teaA', 'product_token': 'eyJxIjoiRG9sbyA1MDAiLCJwcm9kdWN0aWQiOm51bGwsImNhdGFsb2dpZCI6IiIsImdwY2lkIjoiIiwiaGVhZGxpbmVPZmZlckRvY2lkIjoiNjYxNjQwMTI2ODkzNDgwMzI4MSIsInJkcyI6IlBDXzE4MDIzMjE5ODcyMDc2NTk1MzI2fFBST0RfUENfMTgwMjMyMTk4NzIwNzY1OTUzMjYiLCJpbWFnZURvY2lkIjoiNzkwOTE5Mjk0MzAyNzU3MjE0OCIsInB2byI6MywiZWkiOiJHV3psYUpXc0RObWF2cjBQc1lpVklBIiwibWlkIjoiIiwicHZ0IjoiaGciLCJnbCI6InVzIiwiaGwiOiJlbiIsInV1bGUiOiJ3K0NBSVFJQ0lXVG1WM0lGbHZjbXNzVlc1cGRHVmtJRk4wWVhSbGN3In0='}, {'position': 5, 'title': 'Good Neighbor Pharmacy PM Pain RLF 25-500 mg Cplt', 'product_link': 'https://www.google.com/search?q=Dolo+500&oq=Dolo+500&gl=us&hl=en&udm=28&uule=w+CAIQICIWTmV3IFlvcmssVW5pdGVkIFN0YXRlcw#oshopproduct=gid:15012932480315408199,mid:576462863717360114,oid:4745720105170110310,iid:4598573263134513184,pvt:hg,pvo:3&oshop=apv&pvs=0', 'offers_link': 'https://www.google.com/search?q=Dolo+500&oq=Dolo+500&gl=us&hl=en&udm=28&uule=w+CAIQICIWTmV3IFlvcmssVW5pdGVkIFN0YXRlcw#oshopproduct=gid:15012932480315408199,mid:576462863717360114,oid:4745720105170110310,iid:4598573263134513184,pvt:hg,pvo:3&oshop=apv&pvs=0', 'price': '$7.49', 'extracted_price': 7.49, 'seller': 'Tiffany Natural Pharmacy', 'thumbnail': 'https://encrypted-tbn0.gstatic.com/shopping?q=tbn:ANd9GcSlb7G9vCUU15oAMhpqulVLboxmYN-h4oQ1nw8By5RczqR9iyMZ_o2yTj4Kym8JnrU_7Mt9RttE9TgRpfHG6PqTPE5h1gvyS7OfTMYZ2kvmc7d5P8HAW495Pg', 'product_token': 'eyJxIjoiRG9sbyA1MDAiLCJwcm9kdWN0aWQiOm51bGwsImNhdGFsb2dpZCI6IjM5ODI5MjIwNjkzODMyNzc0MDYiLCJncGNpZCI6IjE1MDEyOTMyNDgwMzE1NDA4MTk5IiwiaGVhZGxpbmVPZmZlckRvY2lkIjoiNDc0NTcyMDEwNTE3MDExMDMxMCIsInJkcyI6IiIsImltYWdlRG9jaWQiOiI0NTk4NTczMjYzMTM0NTEzMTg0IiwicHZvIjozLCJlaSI6IkdXemxhSldzRE5tYXZyMFBzWWlWSUEiLCJtaWQiOiI1NzY0NjI4NjM3MTczNjAxMTQiLCJwdnQiOiJoZyIsImdsIjoidXMiLCJobCI6ImVuIiwidXVsZSI6IncrQ0FJUUlDSVdUbVYzSUZsdmNtc3NWVzVwZEdWa0lGTjBZWFJsY3cifQ=='}, {'position': 6, 'title': 'Tylenol Extra Strength 500mg Pain Reliever Fever Reducer Coated Tablets, 100 Count', 'product_link': 'https://www.google.com/search?q=Dolo+500&oq=Dolo+500&gl=us&hl=en&udm=28&uule=w+CAIQICIWTmV3IFlvcmssVW5pdGVkIFN0YXRlcw#oshopproduct=oid:8894294700640484346,iid:12566623304083458057,rds:UENfMTAxODg1NTA0NDc3Njk2MDk2NXxQUk9EX1BDXzEwMTg4NTUwNDQ3NzY5NjA5NjU=,pvt:hg,pvo:3&oshop=apv&pvs=0', 'offers_link': 'https://www.google.com/search?q=Dolo+500&oq=Dolo+500&gl=us&hl=en&udm=28&uule=w+CAIQICIWTmV3IFlvcmssVW5pdGVkIFN0YXRlcw#oshopproduct=oid:8894294700640484346,iid:12566623304083458057,rds:UENfMTAxODg1NTA0NDc3Njk2MDk2NXxQUk9EX1BDXzEwMTg4NTUwNDQ3NzY5NjA5NjU=,pvt:hg,pvo:3&oshop=apv&pvs=0', 'price': '$15.95', 'extracted_price': 15.95, 'original_price': '$20', 'extracted_original_price': 20.0, 'rating': 4.7, 'reviews': 16000, 'tag': '20% OFF', 'delivery': 'Free delivery on $99+', 'delivery_return': '30-day returns', 'seller': 'Mountainside Medical Equipment', 'thumbnail': 'https://encrypted-tbn1.gstatic.com/shopping?q=tbn:ANd9GcRE_6VCDDtVazwIurzGSKHgzEpo9yPlmcgWfBqjYA_mYuHwXnIbCd-OxL_V0iEweNP5p-1NXILrcKsV3o3d1GOUe5PqIiQk3qcMiNQWo-RssdiUV15gwd3bow', 'product_token': 'eyJxIjoiRG9sbyA1MDAiLCJwcm9kdWN0aWQiOm51bGwsImNhdGFsb2dpZCI6IiIsImdwY2lkIjoiIiwiaGVhZGxpbmVPZmZlckRvY2lkIjoiODg5NDI5NDcwMDY0MDQ4NDM0NiIsInJkcyI6IlBDXzEwMTg4NTUwNDQ3NzY5NjA5NjV8UFJPRF9QQ18xMDE4ODU1MDQ0Nzc2OTYwOTY1IiwiaW1hZ2VEb2NpZCI6IjEyNTY2NjIzMzA0MDgzNDU4MDU3IiwicHZvIjozLCJlaSI6IkdXemxhSldzRE5tYXZyMFBzWWlWSUEiLCJtaWQiOiIiLCJwdnQiOiJoZyIsImdsIjoidXMiLCJobCI6ImVuIiwidXVsZSI6IncrQ0FJUUlDSVdUbVYzSUZsdmNtc3NWVzVwZEdWa0lGTjBZWFJsY3cifQ=='}, {'position': 7, 'title': 'Foster And Thrive Extra Strength Pain Relief', 'product_link': 'https://www.google.com/search?q=Dolo+500&oq=Dolo+500&gl=us&hl=en&udm=28&uule=w+CAIQICIWTmV3IFlvcmssVW5pdGVkIFN0YXRlcw#oshopproduct=gid:13438373198303432755,mid:576462900113573689,oid:8390734344673601036,iid:8228353024945880213,pvt:hg,pvo:3&oshop=apv&pvs=0', 'offers_link': 'https://www.google.com/search?q=Dolo+500&oq=Dolo+500&gl=us&hl=en&udm=28&uule=w+CAIQICIWTmV3IFlvcmssVW5pdGVkIFN0YXRlcw#oshopproduct=gid:13438373198303432755,mid:576462900113573689,oid:8390734344673601036,iid:8228353024945880213,pvt:hg,pvo:3&oshop=apv&pvs=0', 'price': '$7.99', 'extracted_price': 7.99, 'seller': 'Leroy Pharmacy', 'thumbnail': 'https://encrypted-tbn1.gstatic.com/shopping?q=tbn:ANd9GcRQDgo_iSZH9egP17AZFezqY13navgHyVOIeJX3TbANzEWC84f1FWIRQNIvtpOgrg0kcnOdGZ0fihiMqoUrtXTw2lzCQZpB', 'product_token': 'eyJxIjoiRG9sbyA1MDAiLCJwcm9kdWN0aWQiOm51bGwsImNhdGFsb2dpZCI6IjE0Mjk4MDAzMDQwNjEyNzc1NzIzIiwiZ3BjaWQiOiIxMzQzODM3MzE5ODMwMzQzMjc1NSIsImhlYWRsaW5lT2ZmZXJEb2NpZCI6IjgzOTA3MzQzNDQ2NzM2MDEwMzYiLCJyZHMiOiIiLCJpbWFnZURvY2lkIjoiODIyODM1MzAyNDk0NTg4MDIxMyIsInB2byI6MywiZWkiOiJHV3psYUpXc0RObWF2cjBQc1lpVklBIiwibWlkIjoiNTc2NDYyOTAwMTEzNTczNjg5IiwicHZ0IjoiaGciLCJnbCI6InVzIiwiaGwiOiJlbiIsInV1bGUiOiJ3K0NBSVFJQ0lXVG1WM0lGbHZjbXNzVlc1cGRHVmtJRk4wWVhSbGN3In0='}, {'position': 8, 'title': 'Extra Strength Tylenol', 'product_link': 'https://www.google.com/search?q=Dolo+500&oq=Dolo+500&gl=us&hl=en&udm=28&uule=w+CAIQICIWTmV3IFlvcmssVW5pdGVkIFN0YXRlcw#oshopproduct=gid:1018855044776960965,mid:576462796495134932,oid:14362001358920725932,iid:11533300297544875473,rds:UENfMTAxODg1NTA0NDc3Njk2MDk2NXxQUk9EX1BDXzEwMTg4NTUwNDQ3NzY5NjA5NjU=,pvt:hg,pvo:3&oshop=apv&pvs=0', 'offers': '& more', 'offers_link': 'https://www.google.com/search?q=Dolo+500&oq=Dolo+500&gl=us&hl=en&udm=28&uule=w+CAIQICIWTmV3IFlvcmssVW5pdGVkIFN0YXRlcw#oshopproduct=gid:1018855044776960965,mid:576462796495134932,oid:14362001358920725932,iid:11533300297544875473,rds:UENfMTAxODg1NTA0NDc3Njk2MDk2NXxQUk9EX1BDXzEwMTg4NTUwNDQ3NzY5NjA5NjU=,pvt:hg,pvo:3&oshop=apv&pvs=0', 'price': '$20.98', 'extracted_price': 20.98, 'rating': 4.7, 'reviews': 16000, 'seller': 'eBay - fdxbuckhunter', 'thumbnail': 'https://encrypted-tbn1.gstatic.com/shopping?q=tbn:ANd9GcStTWC01I26WlMKCFPfZzuniW-h1lZnSPmeJE4oWM8BjT_jtZWvZlSGafe8ohQe0IfFRSo5klavVE2uOm4WYvCbmTFmDr5zCw_b_5dDBcqoiCNjlWm8v8Ao', 'product_token': 'eyJxIjoiRG9sbyA1MDAiLCJwcm9kdWN0aWQiOm51bGwsImNhdGFsb2dpZCI6IjM3Mzk1MjY1MTc3ODg2MTI4MDMiLCJncGNpZCI6IjEwMTg4NTUwNDQ3NzY5NjA5NjUiLCJoZWFkbGluZU9mZmVyRG9jaWQiOiIxNDM2MjAwMTM1ODkyMDcyNTkzMiIsInJkcyI6IlBDXzEwMTg4NTUwNDQ3NzY5NjA5NjV8UFJPRF9QQ18xMDE4ODU1MDQ0Nzc2OTYwOTY1IiwiaW1hZ2VEb2NpZCI6IjExNTMzMzAwMjk3NTQ0ODc1NDczIiwicHZvIjozLCJlaSI6IkdXemxhSldzRE5tYXZyMFBzWWlWSUEiLCJtaWQiOiI1NzY0NjI3OTY0OTUxMzQ5MzIiLCJwdnQiOiJoZyIsImdsIjoidXMiLCJobCI6ImVuIiwidXVsZSI6IncrQ0FJUUlDSVdUbVYzSUZsdmNtc3NWVzVwZEdWa0lGTjBZWFJsY3cifQ=='}, {'position': 9, 'title': 'Etodolac Generic Lodine 500mg Tablet', 'product_link': 'https://www.google.com/search?q=Dolo+500&oq=Dolo+500&gl=us&hl=en&udm=28&uule=w+CAIQICIWTmV3IFlvcmssVW5pdGVkIFN0YXRlcw#oshopproduct=gid:9899035841450171089,mid:576462715220222003,oid:2616326302261749242,iid:14638081443243306698,rds:UENfOTg5OTAzNTg0MTQ1MDE3MTA4OXxQUk9EX1BDXzk4OTkwMzU4NDE0NTAxNzEwODk=,pvt:hg,pvo:3&oshop=apv&pvs=0', 'offers_link': 'https://www.google.com/search?q=Dolo+500&oq=Dolo+500&gl=us&hl=en&udm=28&uule=w+CAIQICIWTmV3IFlvcmssVW5pdGVkIFN0YXRlcw#oshopproduct=gid:9899035841450171089,mid:576462715220222003,oid:2616326302261749242,iid:14638081443243306698,rds:UENfOTg5OTAzNTg0MTQ1MDE3MTA4OXxQUk9EX1BDXzk4OTkwMzU4NDE0NTAxNzEwODk=,pvt:hg,pvo:3&oshop=apv&pvs=0', 'rating': 5.0, 'reviews': 1, 'seller': 'King Community Pharmacy', 'thumbnail': 'https://encrypted-tbn2.gstatic.com/shopping?q=tbn:ANd9GcRk2Q5930r9llTmn_nF-r8AwXlVDPZ-3efywvgXS2KgXgdWVd_lqHZiXi-ek2zfhxVx5KyQKjeuWtKNOxEran1WopMd0dcQ7Q', 'product_token': 'eyJxIjoiRG9sbyA1MDAiLCJwcm9kdWN0aWQiOm51bGwsImNhdGFsb2dpZCI6Ijk1MjY5NTY2OTU0NDI3OTAxMzYiLCJncGNpZCI6Ijk4OTkwMzU4NDE0NTAxNzEwODkiLCJoZWFkbGluZU9mZmVyRG9jaWQiOiIyNjE2MzI2MzAyMjYxNzQ5MjQyIiwicmRzIjoiUENfOTg5OTAzNTg0MTQ1MDE3MTA4OXxQUk9EX1BDXzk4OTkwMzU4NDE0NTAxNzEwODkiLCJpbWFnZURvY2lkIjoiMTQ2MzgwODE0NDMyNDMzMDY2OTgiLCJwdm8iOjMsImVpIjoiR1d6bGFKV3NETm1hdnIwUHNZaVZJQSIsIm1pZCI6IjU3NjQ2MjcxNTIyMDIyMjAwMyIsInB2dCI6ImhnIiwiZ2wiOiJ1cyIsImhsIjoiZW4iLCJ1dWxlIjoidytDQUlRSUNJV1RtVjNJRmx2Y21zc1ZXNXBkR1ZrSUZOMFlYUmxjdyJ9'}]\n"
     ]
    }
   ],
   "source": [
    "print(shopping_results)"
   ]
  },
  {
   "cell_type": "code",
   "execution_count": 39,
   "id": "2bb7126b-22e9-4e34-818c-1c808b5097f5",
   "metadata": {},
   "outputs": [
    {
     "data": {
      "text/plain": [
       "'Apple iPhone 17 Pro'"
      ]
     },
     "execution_count": 39,
     "metadata": {},
     "output_type": "execute_result"
    }
   ],
   "source": [
    "shopping_results[0].get('title')"
   ]
  },
  {
   "cell_type": "code",
   "execution_count": 40,
   "id": "116a7ac7-18db-4b12-86a0-ed519e406e45",
   "metadata": {},
   "outputs": [
    {
     "name": "stdin",
     "output_type": "stream",
     "text": [
      "enter number of options: 3\n"
     ]
    }
   ],
   "source": [
    "number = int(input(\"enter number of options:\"))"
   ]
  },
  {
   "cell_type": "code",
   "execution_count": 49,
   "id": "c9811060-c430-4908-9536-03f3c16a8ddb",
   "metadata": {},
   "outputs": [],
   "source": [
    "lowest_price = float(shopping_results[0].get('price').replace('$', '').replace(',', ''))\n",
    "lowest_price_index = 0"
   ]
  },
  {
   "cell_type": "code",
   "execution_count": 52,
   "id": "c3c48bd3-ba9a-42da-8fff-526049d744c0",
   "metadata": {},
   "outputs": [
    {
     "name": "stdout",
     "output_type": "stream",
     "text": [
      "0\n",
      "Title Panadol Advance 500mg\n",
      "price $14.99\n",
      "Source Pasteur Pharmacy\n",
      "Link https://www.google.com/search?q=Dolo+500&oq=Dolo+500&gl=us&hl=en&udm=28&uule=w+CAIQICIWTmV3IFlvcmssVW5pdGVkIFN0YXRlcw#oshopproduct=gid:7910339383705854920,mid:576462841256193487,oid:3401954575286288027,iid:8979888988082473728,rds:UENfNzkxMDMzOTM4MzcwNTg1NDkyMHxQUk9EX1BDXzc5MTAzMzkzODM3MDU4NTQ5MjA=,pvt:hg,pvo:3&oshop=apv&pvs=0\n",
      "1\n",
      "Title Dolostop 500mg 20 tablets\n",
      "price $2.29\n",
      "Source Farmácia Nova da Maia\n",
      "Link https://www.google.com/search?q=Dolo+500&oq=Dolo+500&gl=us&hl=en&udm=28&uule=w+CAIQICIWTmV3IFlvcmssVW5pdGVkIFN0YXRlcw#oshopproduct=oid:5322953556681984438,iid:16082305035227948476,pvt:hg,pvo:3&oshop=apv&pvs=0\n",
      "2\n",
      "Title Tylenol LDSP Tylenol Extra Strength 6 ct\n",
      "price $3.49\n",
      "Source Tractor Supply Company\n",
      "Link https://www.google.com/search?q=Dolo+500&oq=Dolo+500&gl=us&hl=en&udm=28&uule=w+CAIQICIWTmV3IFlvcmssVW5pdGVkIFN0YXRlcw#oshopproduct=oid:2375422767666664225,iid:9453371386581346830,rds:UENfMTAxODg1NTA0NDc3Njk2MDk2NXxQUk9EX1BDXzEwMTg4NTUwNDQ3NzY5NjA5NjU=,pvt:hg,pvo:3&oshop=apv&pvs=0\n",
      "best option:\n",
      "Title Dolostop 500mg 20 tablets\n",
      "price $2.29\n",
      "Source Farmácia Nova da Maia\n",
      "Link https://www.google.com/search?q=Dolo+500&oq=Dolo+500&gl=us&hl=en&udm=28&uule=w+CAIQICIWTmV3IFlvcmssVW5pdGVkIFN0YXRlcw#oshopproduct=oid:5322953556681984438,iid:16082305035227948476,pvt:hg,pvo:3&oshop=apv&pvs=0\n"
     ]
    }
   ],
   "source": [
    "for i in range(number):\n",
    "    print(i)\n",
    "    current_price = float(shopping_results[i].get('price').replace('$', '').replace(',', ''))\n",
    "    print(\"Title\",shopping_results[i].get('title'))\n",
    "    print(\"price\",shopping_results[i].get('price'))\n",
    "    print(\"Source\",shopping_results[i].get('seller'))\n",
    "    print(\"Link\",shopping_results[i].get('product_link'))\n",
    "    \n",
    "    if current_price<lowest_price:\n",
    "        lowest_price = current_price\n",
    "        lowest_price_index = i\n",
    "print(\"best option:\")\n",
    "print(\"Title\",shopping_results[lowest_price_index].get('title'))\n",
    "print(\"price\",shopping_results[lowest_price_index].get('price'))\n",
    "print(\"Source\",shopping_results[lowest_price_index].get('seller'))\n",
    "print(\"Link\",shopping_results[lowest_price_index].get('product_link'))"
   ]
  },
  {
   "cell_type": "code",
   "execution_count": null,
   "id": "bed915f5-7c72-4634-a60e-bbd06c0e6861",
   "metadata": {},
   "outputs": [],
   "source": []
  }
 ],
 "metadata": {
  "kernelspec": {
   "display_name": "Python 3 (ipykernel)",
   "language": "python",
   "name": "python3"
  },
  "language_info": {
   "codemirror_mode": {
    "name": "ipython",
    "version": 3
   },
   "file_extension": ".py",
   "mimetype": "text/x-python",
   "name": "python",
   "nbconvert_exporter": "python",
   "pygments_lexer": "ipython3",
   "version": "3.11.7"
  }
 },
 "nbformat": 4,
 "nbformat_minor": 5
}
